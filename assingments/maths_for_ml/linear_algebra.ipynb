{
  "nbformat": 4,
  "nbformat_minor": 0,
  "metadata": {
    "colab": {
      "provenance": [],
      "authorship_tag": "ABX9TyO/URiy10z0oXiSObIAfTwZ",
      "include_colab_link": true
    },
    "kernelspec": {
      "name": "python3",
      "display_name": "Python 3"
    },
    "language_info": {
      "name": "python"
    }
  },
  "cells": [
    {
      "cell_type": "markdown",
      "metadata": {
        "id": "view-in-github",
        "colab_type": "text"
      },
      "source": [
        "<a href=\"https://colab.research.google.com/github/kk-shetty/data_science_ik/blob/main/assingments/maths_for_ml/linear_algebra.ipynb\" target=\"_parent\"><img src=\"https://colab.research.google.com/assets/colab-badge.svg\" alt=\"Open In Colab\"/></a>"
      ]
    },
    {
      "cell_type": "markdown",
      "source": [
        "#### Q1. Write a Python function that takes a square matrix A as input and returns its eigenvalues and eigenvectors."
      ],
      "metadata": {
        "id": "1ki1soZpNbfN"
      }
    },
    {
      "cell_type": "code",
      "source": [
        "import numpy as np"
      ],
      "metadata": {
        "id": "zYy10A3wOXWM"
      },
      "execution_count": 2,
      "outputs": []
    },
    {
      "cell_type": "code",
      "execution_count": 3,
      "metadata": {
        "id": "wCLL-7d3NW3b"
      },
      "outputs": [],
      "source": [
        "def eigen(A):\n",
        "    \"\"\"Return Eigen Values and Eigen Vectors of a given Square matrix A\n",
        "    \"\"\"\n",
        "    # Calculate eigenvalues and eigenvectors\n",
        "    eigenvalues, eigenvectors = np.linalg.eig(A)\n",
        "    return eigenvalues, eigenvectors\n"
      ]
    },
    {
      "cell_type": "code",
      "source": [
        "matrix = np.array([[3,5,8],[2,4,1],[9,8,4]])\n",
        "\n",
        "eigenvalues, eigenvectors = eigen(matrix)\n",
        "\n",
        "print(\"Eigen Values:\")\n",
        "print(eigenvalues)\n",
        "\n",
        "print(\"Eigen Vectors:\")\n",
        "print(eigenvectors)"
      ],
      "metadata": {
        "colab": {
          "base_uri": "https://localhost:8080/"
        },
        "id": "MoSLvRPaOWee",
        "outputId": "9b7eb7e5-76a0-4b4c-cb06-dfe42b33c80c"
      },
      "execution_count": 4,
      "outputs": [
        {
          "output_type": "stream",
          "name": "stdout",
          "text": [
            "Eigen Values:\n",
            "[13.91645304 -4.85524621  1.93879316]\n",
            "Eigen Vectors:\n",
            "[[-0.63767173 -0.73849739  0.56317984]\n",
            " [-0.20352817  0.09135327 -0.73224369]\n",
            " [-0.74293408  0.66803906  0.38294602]]\n"
          ]
        }
      ]
    },
    {
      "cell_type": "markdown",
      "source": [
        "#### Q2. Write a program which takes 2 arrays and returns the dot product without using NumPy"
      ],
      "metadata": {
        "id": "NL26xx5dRGsp"
      }
    },
    {
      "cell_type": "code",
      "source": [
        "def dot_product(A,B):\n",
        "    # Check if the arrays have the same length\n",
        "    if len(A) != len(B):\n",
        "        raise ValueError(\"Vectors must be of same dimension\")\n",
        "\n",
        "    result = sum(x * y for x, y in zip(A,B))\n",
        "\n",
        "    return result"
      ],
      "metadata": {
        "id": "AFCMUIMKSNso"
      },
      "execution_count": 5,
      "outputs": []
    },
    {
      "cell_type": "code",
      "source": [
        "vec_a = np.array([2,4,6])\n",
        "vec_b = np.array([1,7,2])\n",
        "\n",
        "dot_prod = dot_product(vec_a, vec_b)\n",
        "\n",
        "print(f\"{vec_a} * {vec_b} is -> {dot_prod}\")"
      ],
      "metadata": {
        "colab": {
          "base_uri": "https://localhost:8080/"
        },
        "id": "HA-e8TBSRLSG",
        "outputId": "306f26d1-6c0d-4be2-a3e2-8d67920ec157"
      },
      "execution_count": 6,
      "outputs": [
        {
          "output_type": "stream",
          "name": "stdout",
          "text": [
            "[2 4 6] * [1 7 2] is -> 42\n"
          ]
        }
      ]
    },
    {
      "cell_type": "markdown",
      "source": [
        "#### Q3. Write a Python function to calculate the determinant of a n by n matrix without using Python package"
      ],
      "metadata": {
        "id": "56Rk08WZUGx2"
      }
    },
    {
      "cell_type": "code",
      "source": [
        "def minor(matrix, row_index, col_index):\n",
        "    \"\"\"Returns minor matrix at specified row and column index\n",
        "    \"\"\"\n",
        "    # return np.delete(np.delete(matrix, row_index, axis=0), col_index, axis=1)\n",
        "    return [[matrix[i][j] for j in range(len(matrix[i])) if j != col_index] for i in range(len(matrix)) if i != row_index]"
      ],
      "metadata": {
        "id": "ny-tVtu96p_h"
      },
      "execution_count": 7,
      "outputs": []
    },
    {
      "cell_type": "code",
      "source": [
        "def determinant(matrix):\n",
        "    \"\"\"Calculates and returns determinant of a matrix\n",
        "    \"\"\"\n",
        "\n",
        "    if len(matrix) == 1:\n",
        "        return matrix[0][0]\n",
        "\n",
        "    det = 0\n",
        "    for i in range(len(matrix)):\n",
        "        # print(matrix[0,i])\n",
        "        temp_det = (((-1)**(1+i+1)) * (matrix[0][i]) * (determinant(minor(matrix, 0, i))))\n",
        "        # print(temp_det)\n",
        "        det += temp_det\n",
        "\n",
        "    return det\n"
      ],
      "metadata": {
        "id": "oze_KdVF5WLL"
      },
      "execution_count": 8,
      "outputs": []
    },
    {
      "cell_type": "code",
      "source": [
        "mat_a = np.array([[1,2,3],[4,5,6],[7,8,9]])\n",
        "det_matrix =  determinant(matrix)\n",
        "print(f\"det({matrix}) = {det_matrix}\")"
      ],
      "metadata": {
        "colab": {
          "base_uri": "https://localhost:8080/"
        },
        "id": "1Act72_nURAk",
        "outputId": "5df2b69e-5295-45c6-8ae2-7df656655c54"
      },
      "execution_count": 9,
      "outputs": [
        {
          "output_type": "stream",
          "name": "stdout",
          "text": [
            "det([[3 5 8]\n",
            " [2 4 1]\n",
            " [9 8 4]]) = -131\n"
          ]
        }
      ]
    },
    {
      "cell_type": "markdown",
      "source": [
        "#### Q4. Write a Python function to calculate the rank of a matrix without using Python package"
      ],
      "metadata": {
        "id": "pF8DjQYuGJCP"
      }
    },
    {
      "cell_type": "code",
      "source": [
        "def max_pivot_row(matrix):\n",
        "    \"\"\"Returns the row number which has the max pivot eleement\n",
        "    \"\"\"\n",
        "\n",
        "    max_value = float('-inf')\n",
        "    max_row = -1\n",
        "\n",
        "    for row_index in range(len(matrix)):\n",
        "        if matrix[row_index, 0] > max_value:\n",
        "            max_value = matrix[row_index, 0]\n",
        "            max_row = row_index\n",
        "\n",
        "    return max_row\n"
      ],
      "metadata": {
        "id": "I8EXONTtGRez"
      },
      "execution_count": 17,
      "outputs": []
    },
    {
      "cell_type": "code",
      "source": [
        "def row_echelon(matrix):\n",
        "    \"\"\"Converts a given matrix into row echelon format\n",
        "    \"\"\"\n",
        "\n",
        "    # Find the row number which has the highest left most number and swap it with first row\n",
        "    max_pivot_row_num = max_pivot_row(matrix)\n",
        "    matrix[0], matrix[max_pivot_row_num] = matrix[max_pivot_row_num].copy(), matrix[0].copy()\n",
        "\n",
        "    pivot_index = -1\n",
        "    for row_index in range(len(matrix)):\n",
        "        col_index = 0\n",
        "        while matrix[row_index, col_index] == 0:\n",
        "            col_index += 1\n",
        "        if col_index > pivot_index:\n",
        "            pivot_index = col_index\n",
        "\n",
        "\n",
        "\n",
        "    return matrix"
      ],
      "metadata": {
        "id": "21_ypFusl3tC"
      },
      "execution_count": 41,
      "outputs": []
    },
    {
      "cell_type": "code",
      "source": [
        "mat_a = np.array([[1,2,3],[4,5,6],[7,8,9]])\n",
        "mat_a\n",
        "row_echelon(mat_a)\n"
      ],
      "metadata": {
        "colab": {
          "base_uri": "https://localhost:8080/"
        },
        "id": "i3Y16xROqqXJ",
        "outputId": "3123b636-301f-46b5-f472-06a165d912ae"
      },
      "execution_count": 42,
      "outputs": [
        {
          "output_type": "execute_result",
          "data": {
            "text/plain": [
              "array([[7, 8, 9],\n",
              "       [4, 5, 6],\n",
              "       [1, 2, 3]])"
            ]
          },
          "metadata": {},
          "execution_count": 42
        }
      ]
    }
  ]
}
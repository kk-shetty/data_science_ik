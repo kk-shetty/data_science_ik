{
 "cells": [
  {
   "cell_type": "markdown",
   "metadata": {},
   "source": [
    "# Exploratory Data Analysis and Feature Engineering"
   ]
  },
  {
   "cell_type": "markdown",
   "metadata": {},
   "source": [
    "When we are building any model there are lots of questions that that we needs to find answer before we jump into building any model.\n",
    "1. Should we use every available attributes in our dataset as a feature?\n",
    "2. Can there be negative impact on the model if it has too many features?\n",
    "3. Should we use all the available sample to train the model (select the coefficient)?\n",
    "4. Should we reserve some data for validation?\n",
    "5. How to handle non-numeric attributes?\n",
    "6. What if there are some missing values in the sample for few attributes?"
   ]
  },
  {
   "cell_type": "markdown",
   "metadata": {},
   "source": [
    "#### Overfitting:\n",
    "1. The dataset that we use to fit a model is called **training set**.\n",
    "2. An independent set used for model evaluation is called **test set**.\n",
    "3. A model can be negatively impacted if there are too many features.\n",
    "4. The data set that we use to fit a model can have some pattern + noise\n",
    "5. If we use more complex model to fit this training data more closely, we are likely fitting to noise in the data at some point.\n",
    "6. This model doesn't generalize well outside the training data.\n",
    "\n",
    "#### Summary:\n",
    "1. Careful EDA and FGeature engineering can improve accuracy and robustness of ML Models.\n",
    "2. Fitiing amodel to the training set is easy but fitting a model that performs equally well on unseen data is a key challenge.\n",
    "3. We need to be casefull in selecting the class of model and it's features that we use with models to avoid overfitting the model to training data.\n",
    "4. Overfitting occurs when we fit a model to noise in the training set.\n",
    "5. reserve some data for testing."
   ]
  },
  {
   "cell_type": "markdown",
   "metadata": {},
   "source": [
    "## Exploratory Data Analysis"
   ]
  },
  {
   "cell_type": "code",
   "execution_count": 1,
   "metadata": {},
   "outputs": [
    {
     "ename": "ModuleNotFoundError",
     "evalue": "No module named 'google.colab'",
     "output_type": "error",
     "traceback": [
      "\u001b[0;31m---------------------------------------------------------------------------\u001b[0m",
      "\u001b[0;31mModuleNotFoundError\u001b[0m                       Traceback (most recent call last)",
      "Cell \u001b[0;32mIn[1], line 2\u001b[0m\n\u001b[1;32m      1\u001b[0m \u001b[38;5;28;01mimport\u001b[39;00m \u001b[38;5;21;01mpandas\u001b[39;00m \u001b[38;5;28;01mas\u001b[39;00m \u001b[38;5;21;01mpd\u001b[39;00m\n\u001b[0;32m----> 2\u001b[0m \u001b[38;5;28;01mfrom\u001b[39;00m \u001b[38;5;21;01mgoogle\u001b[39;00m\u001b[38;5;21;01m.\u001b[39;00m\u001b[38;5;21;01mcolab\u001b[39;00m \u001b[38;5;28;01mimport\u001b[39;00m drive \u001b[38;5;66;03m# Used for mounting Google Drive\u001b[39;00m\n",
      "\u001b[0;31mModuleNotFoundError\u001b[0m: No module named 'google.colab'"
     ]
    }
   ],
   "source": [
    "import pandas as pd\n",
    "from google.colab import drive # Used for mounting Google Drive"
   ]
  },
  {
   "cell_type": "code",
   "execution_count": null,
   "metadata": {},
   "outputs": [],
   "source": []
  }
 ],
 "metadata": {
  "kernelspec": {
   "display_name": "Python 3",
   "language": "python",
   "name": "python3"
  },
  "language_info": {
   "codemirror_mode": {
    "name": "ipython",
    "version": 3
   },
   "file_extension": ".py",
   "mimetype": "text/x-python",
   "name": "python",
   "nbconvert_exporter": "python",
   "pygments_lexer": "ipython3",
   "version": "3.11.4"
  }
 },
 "nbformat": 4,
 "nbformat_minor": 2
}
